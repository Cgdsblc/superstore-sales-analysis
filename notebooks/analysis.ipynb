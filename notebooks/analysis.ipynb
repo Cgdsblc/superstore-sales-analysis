{
 "cells": [
  {
   "cell_type": "code",
   "execution_count": 37,
   "id": "20bde40b-6848-43df-91be-b640c92d91a2",
   "metadata": {},
   "outputs": [
    {
     "name": "stdout",
     "output_type": "stream",
     "text": [
      "Index(['Row ID', 'Order ID', 'Order Date', 'Ship Date', 'Ship Mode',\n",
      "       'Customer ID', 'Customer Name', 'Segment', 'Country', 'City', 'State',\n",
      "       'Postal Code', 'Region', 'Product ID', 'Category', 'Sub-Category',\n",
      "       'Product Name', 'Sales', 'Quantity', 'Discount', 'Profit'],\n",
      "      dtype='object')\n",
      "    CustomerID        CustomerSegment\n",
      "0     AA-10315    High-Value Customer\n",
      "1     AA-10375    High-Value Customer\n",
      "2     AA-10480    High-Value Customer\n",
      "3     AA-10645    High-Value Customer\n",
      "4     AB-10015  Medium-Value Customer\n",
      "..         ...                    ...\n",
      "788   XP-21865    High-Value Customer\n",
      "789   YC-21895    High-Value Customer\n",
      "790   YS-21880    High-Value Customer\n",
      "791   ZC-21910    High-Value Customer\n",
      "792   ZD-21925    High-Value Customer\n",
      "\n",
      "[793 rows x 2 columns]\n"
     ]
    },
    {
     "data": {
      "application/vnd.plotly.v1+json": {
       "config": {
        "plotlyServerURL": "https://plot.ly"
       },
       "data": [
        {
         "alignmentgroup": "True",
         "bingroup": "x",
         "hovertemplate": "CustomerSegment=%{x}<br>count=%{y}<extra></extra>",
         "legendgroup": "",
         "marker": {
          "color": "#636efa",
          "pattern": {
           "shape": ""
          }
         },
         "name": "",
         "offsetgroup": "",
         "orientation": "v",
         "showlegend": false,
         "type": "histogram",
         "x": [
          "High-Value Customer",
          "High-Value Customer",
          "High-Value Customer",
          "High-Value Customer",
          "Medium-Value Customer",
          "High-Value Customer",
          "High-Value Customer",
          "Medium-Value Customer",
          "High-Value Customer",
          "Medium-Value Customer",
          "High-Value Customer",
          "Medium-Value Customer",
          "High-Value Customer",
          "High-Value Customer",
          "Medium-Value Customer",
          "High-Value Customer",
          "High-Value Customer",
          "Medium-Value Customer",
          "High-Value Customer",
          "Low-Value Customer",
          "Medium-Value Customer",
          "Low-Value Customer",
          "High-Value Customer",
          "High-Value Customer",
          "High-Value Customer",
          "Low-Value Customer",
          "High-Value Customer",
          "High-Value Customer",
          "High-Value Customer",
          "High-Value Customer",
          "High-Value Customer",
          "High-Value Customer",
          "High-Value Customer",
          "Medium-Value Customer",
          "High-Value Customer",
          "High-Value Customer",
          "High-Value Customer",
          "High-Value Customer",
          "High-Value Customer",
          "Medium-Value Customer",
          "Medium-Value Customer",
          "High-Value Customer",
          "Low-Value Customer",
          "High-Value Customer",
          "High-Value Customer",
          "High-Value Customer",
          "High-Value Customer",
          "Low-Value Customer",
          "High-Value Customer",
          "Low-Value Customer",
          "High-Value Customer",
          "High-Value Customer",
          "High-Value Customer",
          "Low-Value Customer",
          "High-Value Customer",
          "Medium-Value Customer",
          "High-Value Customer",
          "Medium-Value Customer",
          "High-Value Customer",
          "High-Value Customer",
          "Medium-Value Customer",
          "High-Value Customer",
          "Low-Value Customer",
          "High-Value Customer",
          "Medium-Value Customer",
          "High-Value Customer",
          "High-Value Customer",
          "High-Value Customer",
          "High-Value Customer",
          "Low-Value Customer",
          "High-Value Customer",
          "High-Value Customer",
          "Medium-Value Customer",
          "High-Value Customer",
          "Medium-Value Customer",
          "High-Value Customer",
          "High-Value Customer",
          "High-Value Customer",
          "Medium-Value Customer",
          "High-Value Customer",
          "High-Value Customer",
          "Low-Value Customer",
          "High-Value Customer",
          "High-Value Customer",
          "Medium-Value Customer",
          "High-Value Customer",
          "High-Value Customer",
          "High-Value Customer",
          "High-Value Customer",
          "Medium-Value Customer",
          "High-Value Customer",
          "Medium-Value Customer",
          "High-Value Customer",
          "High-Value Customer",
          "Low-Value Customer",
          "High-Value Customer",
          "High-Value Customer",
          "Low-Value Customer",
          "Medium-Value Customer",
          "High-Value Customer",
          "High-Value Customer",
          "High-Value Customer",
          "High-Value Customer",
          "High-Value Customer",
          "High-Value Customer",
          "High-Value Customer",
          "High-Value Customer",
          "High-Value Customer",
          "High-Value Customer",
          "Medium-Value Customer",
          "High-Value Customer",
          "High-Value Customer",
          "Medium-Value Customer",
          "Low-Value Customer",
          "High-Value Customer",
          "High-Value Customer",
          "High-Value Customer",
          "Low-Value Customer",
          "High-Value Customer",
          "High-Value Customer",
          "High-Value Customer",
          "High-Value Customer",
          "High-Value Customer",
          "High-Value Customer",
          "High-Value Customer",
          "High-Value Customer",
          "High-Value Customer",
          "High-Value Customer",
          "High-Value Customer",
          "High-Value Customer",
          "High-Value Customer",
          "High-Value Customer",
          "High-Value Customer",
          "High-Value Customer",
          "Low-Value Customer",
          "High-Value Customer",
          "High-Value Customer",
          "High-Value Customer",
          "High-Value Customer",
          "Medium-Value Customer",
          "High-Value Customer",
          "High-Value Customer",
          "Medium-Value Customer",
          "High-Value Customer",
          "High-Value Customer",
          "Low-Value Customer",
          "High-Value Customer",
          "High-Value Customer",
          "High-Value Customer",
          "High-Value Customer",
          "High-Value Customer",
          "High-Value Customer",
          "High-Value Customer",
          "High-Value Customer",
          "High-Value Customer",
          "Medium-Value Customer",
          "High-Value Customer",
          "High-Value Customer",
          "High-Value Customer",
          "High-Value Customer",
          "High-Value Customer",
          "Low-Value Customer",
          "High-Value Customer",
          "High-Value Customer",
          "High-Value Customer",
          "High-Value Customer",
          "High-Value Customer",
          "Low-Value Customer",
          "High-Value Customer",
          "High-Value Customer",
          "High-Value Customer",
          "Medium-Value Customer",
          "High-Value Customer",
          "Medium-Value Customer",
          "Medium-Value Customer",
          "High-Value Customer",
          "High-Value Customer",
          "High-Value Customer",
          "Medium-Value Customer",
          "High-Value Customer",
          "High-Value Customer",
          "High-Value Customer",
          "High-Value Customer",
          "High-Value Customer",
          "High-Value Customer",
          "High-Value Customer",
          "High-Value Customer",
          "Low-Value Customer",
          "High-Value Customer",
          "High-Value Customer",
          "High-Value Customer",
          "High-Value Customer",
          "High-Value Customer",
          "High-Value Customer",
          "High-Value Customer",
          "High-Value Customer",
          "High-Value Customer",
          "High-Value Customer",
          "High-Value Customer",
          "High-Value Customer",
          "High-Value Customer",
          "Low-Value Customer",
          "High-Value Customer",
          "High-Value Customer",
          "High-Value Customer",
          "High-Value Customer",
          "High-Value Customer",
          "High-Value Customer",
          "High-Value Customer",
          "High-Value Customer",
          "High-Value Customer",
          "High-Value Customer",
          "High-Value Customer",
          "High-Value Customer",
          "Medium-Value Customer",
          "High-Value Customer",
          "High-Value Customer",
          "High-Value Customer",
          "High-Value Customer",
          "High-Value Customer",
          "Medium-Value Customer",
          "High-Value Customer",
          "High-Value Customer",
          "High-Value Customer",
          "High-Value Customer",
          "High-Value Customer",
          "High-Value Customer",
          "High-Value Customer",
          "High-Value Customer",
          "High-Value Customer",
          "High-Value Customer",
          "High-Value Customer",
          "High-Value Customer",
          "High-Value Customer",
          "High-Value Customer",
          "High-Value Customer",
          "High-Value Customer",
          "High-Value Customer",
          "High-Value Customer",
          "High-Value Customer",
          "High-Value Customer",
          "Low-Value Customer",
          "High-Value Customer",
          "Medium-Value Customer",
          "High-Value Customer",
          "High-Value Customer",
          "High-Value Customer",
          "High-Value Customer",
          "High-Value Customer",
          "High-Value Customer",
          "Medium-Value Customer",
          "High-Value Customer",
          "High-Value Customer",
          "High-Value Customer",
          "Low-Value Customer",
          "High-Value Customer",
          "High-Value Customer",
          "High-Value Customer",
          "Medium-Value Customer",
          "Medium-Value Customer",
          "High-Value Customer",
          "High-Value Customer",
          "Medium-Value Customer",
          "High-Value Customer",
          "High-Value Customer",
          "High-Value Customer",
          "Low-Value Customer",
          "High-Value Customer",
          "High-Value Customer",
          "Medium-Value Customer",
          "Low-Value Customer",
          "High-Value Customer",
          "High-Value Customer",
          "Low-Value Customer",
          "High-Value Customer",
          "High-Value Customer",
          "High-Value Customer",
          "High-Value Customer",
          "High-Value Customer",
          "High-Value Customer",
          "High-Value Customer",
          "High-Value Customer",
          "High-Value Customer",
          "High-Value Customer",
          "High-Value Customer",
          "High-Value Customer",
          "High-Value Customer",
          "High-Value Customer",
          "High-Value Customer",
          "High-Value Customer",
          "High-Value Customer",
          "Low-Value Customer",
          "High-Value Customer",
          "High-Value Customer",
          "High-Value Customer",
          "High-Value Customer",
          "High-Value Customer",
          "High-Value Customer",
          "High-Value Customer",
          "High-Value Customer",
          "High-Value Customer",
          "Low-Value Customer",
          "High-Value Customer",
          "High-Value Customer",
          "High-Value Customer",
          "High-Value Customer",
          "High-Value Customer",
          "High-Value Customer",
          "Low-Value Customer",
          "High-Value Customer",
          "High-Value Customer",
          "High-Value Customer",
          "Low-Value Customer",
          "High-Value Customer",
          "High-Value Customer",
          "High-Value Customer",
          "High-Value Customer",
          "High-Value Customer",
          "Low-Value Customer",
          "Medium-Value Customer",
          "High-Value Customer",
          "Medium-Value Customer",
          "High-Value Customer",
          "High-Value Customer",
          "Low-Value Customer",
          "Low-Value Customer",
          "High-Value Customer",
          "High-Value Customer",
          "High-Value Customer",
          "Medium-Value Customer",
          "High-Value Customer",
          "High-Value Customer",
          "High-Value Customer",
          "High-Value Customer",
          "Medium-Value Customer",
          "Medium-Value Customer",
          "High-Value Customer",
          "High-Value Customer",
          "High-Value Customer",
          "High-Value Customer",
          "High-Value Customer",
          "Medium-Value Customer",
          "Medium-Value Customer",
          "High-Value Customer",
          "Low-Value Customer",
          "High-Value Customer",
          "High-Value Customer",
          "Medium-Value Customer",
          "High-Value Customer",
          "High-Value Customer",
          "Low-Value Customer",
          "Medium-Value Customer",
          "High-Value Customer",
          "High-Value Customer",
          "High-Value Customer",
          "High-Value Customer",
          "High-Value Customer",
          "High-Value Customer",
          "High-Value Customer",
          "Medium-Value Customer",
          "High-Value Customer",
          "High-Value Customer",
          "High-Value Customer",
          "High-Value Customer",
          "High-Value Customer",
          "High-Value Customer",
          "High-Value Customer",
          "High-Value Customer",
          "Low-Value Customer",
          "Medium-Value Customer",
          "Medium-Value Customer",
          "High-Value Customer",
          "High-Value Customer",
          "Medium-Value Customer",
          "Low-Value Customer",
          "High-Value Customer",
          "Low-Value Customer",
          "High-Value Customer",
          "High-Value Customer",
          "High-Value Customer",
          "High-Value Customer",
          "High-Value Customer",
          "High-Value Customer",
          "High-Value Customer",
          "High-Value Customer",
          "High-Value Customer",
          "High-Value Customer",
          "High-Value Customer",
          "High-Value Customer",
          "High-Value Customer",
          "High-Value Customer",
          "High-Value Customer",
          "Low-Value Customer",
          "Medium-Value Customer",
          "High-Value Customer",
          "High-Value Customer",
          "High-Value Customer",
          "High-Value Customer",
          "High-Value Customer",
          "High-Value Customer",
          "High-Value Customer",
          "High-Value Customer",
          "High-Value Customer",
          "Medium-Value Customer",
          "High-Value Customer",
          "High-Value Customer",
          "High-Value Customer",
          "High-Value Customer",
          "Low-Value Customer",
          "High-Value Customer",
          "High-Value Customer",
          "High-Value Customer",
          "High-Value Customer",
          "High-Value Customer",
          "High-Value Customer",
          "High-Value Customer",
          "Medium-Value Customer",
          "High-Value Customer",
          "Medium-Value Customer",
          "High-Value Customer",
          "High-Value Customer",
          "High-Value Customer",
          "High-Value Customer",
          "High-Value Customer",
          "High-Value Customer",
          "High-Value Customer",
          "High-Value Customer",
          "High-Value Customer",
          "High-Value Customer",
          "High-Value Customer",
          "High-Value Customer",
          "High-Value Customer",
          "High-Value Customer",
          "High-Value Customer",
          "High-Value Customer",
          "High-Value Customer",
          "High-Value Customer",
          "Low-Value Customer",
          "High-Value Customer",
          "High-Value Customer",
          "High-Value Customer",
          "High-Value Customer",
          "Low-Value Customer",
          "High-Value Customer",
          "High-Value Customer",
          "High-Value Customer",
          "Low-Value Customer",
          "High-Value Customer",
          "Low-Value Customer",
          "High-Value Customer",
          "High-Value Customer",
          "High-Value Customer",
          "High-Value Customer",
          "High-Value Customer",
          "High-Value Customer",
          "High-Value Customer",
          "Low-Value Customer",
          "High-Value Customer",
          "High-Value Customer",
          "High-Value Customer",
          "Low-Value Customer",
          "High-Value Customer",
          "Low-Value Customer",
          "High-Value Customer",
          "High-Value Customer",
          "High-Value Customer",
          "Medium-Value Customer",
          "Medium-Value Customer",
          "High-Value Customer",
          "High-Value Customer",
          "High-Value Customer",
          "High-Value Customer",
          "High-Value Customer",
          "High-Value Customer",
          "Low-Value Customer",
          "High-Value Customer",
          "Low-Value Customer",
          "High-Value Customer",
          "High-Value Customer",
          "High-Value Customer",
          "High-Value Customer",
          "High-Value Customer",
          "High-Value Customer",
          "High-Value Customer",
          "High-Value Customer",
          "High-Value Customer",
          "High-Value Customer",
          "High-Value Customer",
          "High-Value Customer",
          "High-Value Customer",
          "High-Value Customer",
          "Medium-Value Customer",
          "High-Value Customer",
          "High-Value Customer",
          "High-Value Customer",
          "High-Value Customer",
          "High-Value Customer",
          "High-Value Customer",
          "High-Value Customer",
          "High-Value Customer",
          "Medium-Value Customer",
          "High-Value Customer",
          "High-Value Customer",
          "High-Value Customer",
          "High-Value Customer",
          "High-Value Customer",
          "Medium-Value Customer",
          "High-Value Customer",
          "Low-Value Customer",
          "High-Value Customer",
          "Low-Value Customer",
          "High-Value Customer",
          "High-Value Customer",
          "High-Value Customer",
          "High-Value Customer",
          "High-Value Customer",
          "High-Value Customer",
          "High-Value Customer",
          "High-Value Customer",
          "High-Value Customer",
          "High-Value Customer",
          "High-Value Customer",
          "Medium-Value Customer",
          "Low-Value Customer",
          "High-Value Customer",
          "High-Value Customer",
          "High-Value Customer",
          "Medium-Value Customer",
          "High-Value Customer",
          "Medium-Value Customer",
          "High-Value Customer",
          "Low-Value Customer",
          "High-Value Customer",
          "High-Value Customer",
          "High-Value Customer",
          "Medium-Value Customer",
          "High-Value Customer",
          "Low-Value Customer",
          "High-Value Customer",
          "High-Value Customer",
          "Low-Value Customer",
          "Medium-Value Customer",
          "High-Value Customer",
          "High-Value Customer",
          "High-Value Customer",
          "High-Value Customer",
          "High-Value Customer",
          "High-Value Customer",
          "High-Value Customer",
          "High-Value Customer",
          "Medium-Value Customer",
          "High-Value Customer",
          "Low-Value Customer",
          "High-Value Customer",
          "High-Value Customer",
          "High-Value Customer",
          "High-Value Customer",
          "High-Value Customer",
          "High-Value Customer",
          "High-Value Customer",
          "High-Value Customer",
          "Low-Value Customer",
          "High-Value Customer",
          "High-Value Customer",
          "High-Value Customer",
          "High-Value Customer",
          "Medium-Value Customer",
          "High-Value Customer",
          "High-Value Customer",
          "High-Value Customer",
          "High-Value Customer",
          "High-Value Customer",
          "High-Value Customer",
          "High-Value Customer",
          "High-Value Customer",
          "High-Value Customer",
          "High-Value Customer",
          "High-Value Customer",
          "High-Value Customer",
          "High-Value Customer",
          "High-Value Customer",
          "Medium-Value Customer",
          "Medium-Value Customer",
          "Medium-Value Customer",
          "High-Value Customer",
          "Low-Value Customer",
          "High-Value Customer",
          "High-Value Customer",
          "High-Value Customer",
          "High-Value Customer",
          "High-Value Customer",
          "High-Value Customer",
          "High-Value Customer",
          "Medium-Value Customer",
          "High-Value Customer",
          "High-Value Customer",
          "High-Value Customer",
          "High-Value Customer",
          "Low-Value Customer",
          "High-Value Customer",
          "High-Value Customer",
          "High-Value Customer",
          "High-Value Customer",
          "High-Value Customer",
          "High-Value Customer",
          "High-Value Customer",
          "High-Value Customer",
          "High-Value Customer",
          "High-Value Customer",
          "High-Value Customer",
          "High-Value Customer",
          "Low-Value Customer",
          "High-Value Customer",
          "High-Value Customer",
          "High-Value Customer",
          "High-Value Customer",
          "High-Value Customer",
          "High-Value Customer",
          "High-Value Customer",
          "High-Value Customer",
          "High-Value Customer",
          "High-Value Customer",
          "High-Value Customer",
          "High-Value Customer",
          "Medium-Value Customer",
          "Low-Value Customer",
          "High-Value Customer",
          "High-Value Customer",
          "Medium-Value Customer",
          "Medium-Value Customer",
          "High-Value Customer",
          "High-Value Customer",
          "High-Value Customer",
          "High-Value Customer",
          "High-Value Customer",
          "High-Value Customer",
          "Medium-Value Customer",
          "Low-Value Customer",
          "Medium-Value Customer",
          "High-Value Customer",
          "High-Value Customer",
          "Medium-Value Customer",
          "High-Value Customer",
          "High-Value Customer",
          "Medium-Value Customer",
          "High-Value Customer",
          "High-Value Customer",
          "High-Value Customer",
          "High-Value Customer",
          "High-Value Customer",
          "Low-Value Customer",
          "High-Value Customer",
          "Medium-Value Customer",
          "High-Value Customer",
          "High-Value Customer",
          "Medium-Value Customer",
          "High-Value Customer",
          "High-Value Customer",
          "High-Value Customer",
          "Low-Value Customer",
          "High-Value Customer",
          "High-Value Customer",
          "High-Value Customer",
          "High-Value Customer",
          "High-Value Customer",
          "High-Value Customer",
          "High-Value Customer",
          "High-Value Customer",
          "High-Value Customer",
          "High-Value Customer",
          "High-Value Customer",
          "High-Value Customer",
          "High-Value Customer",
          "High-Value Customer",
          "High-Value Customer",
          "Medium-Value Customer",
          "High-Value Customer",
          "High-Value Customer",
          "High-Value Customer",
          "High-Value Customer",
          "Low-Value Customer",
          "Low-Value Customer",
          "High-Value Customer",
          "High-Value Customer",
          "Medium-Value Customer",
          "High-Value Customer",
          "High-Value Customer",
          "High-Value Customer",
          "High-Value Customer",
          "High-Value Customer",
          "Low-Value Customer",
          "High-Value Customer",
          "High-Value Customer",
          "High-Value Customer",
          "High-Value Customer",
          "High-Value Customer",
          "High-Value Customer",
          "Medium-Value Customer",
          "High-Value Customer",
          "Low-Value Customer",
          "High-Value Customer",
          "High-Value Customer",
          "High-Value Customer",
          "High-Value Customer",
          "High-Value Customer",
          "High-Value Customer",
          "High-Value Customer",
          "High-Value Customer",
          "High-Value Customer",
          "High-Value Customer",
          "High-Value Customer",
          "High-Value Customer",
          "High-Value Customer",
          "High-Value Customer",
          "High-Value Customer",
          "Medium-Value Customer",
          "Low-Value Customer",
          "Medium-Value Customer",
          "Low-Value Customer",
          "High-Value Customer",
          "High-Value Customer",
          "High-Value Customer",
          "High-Value Customer",
          "High-Value Customer",
          "High-Value Customer",
          "High-Value Customer",
          "High-Value Customer",
          "High-Value Customer",
          "Medium-Value Customer",
          "High-Value Customer",
          "High-Value Customer",
          "High-Value Customer",
          "High-Value Customer",
          "Medium-Value Customer",
          "High-Value Customer",
          "High-Value Customer",
          "Medium-Value Customer",
          "High-Value Customer",
          "High-Value Customer",
          "High-Value Customer",
          "High-Value Customer",
          "High-Value Customer",
          "High-Value Customer",
          "High-Value Customer",
          "High-Value Customer",
          "Medium-Value Customer",
          "High-Value Customer",
          "High-Value Customer",
          "High-Value Customer",
          "High-Value Customer",
          "High-Value Customer",
          "High-Value Customer",
          "High-Value Customer",
          "High-Value Customer",
          "High-Value Customer",
          "High-Value Customer",
          "High-Value Customer",
          "High-Value Customer",
          "High-Value Customer",
          "Medium-Value Customer",
          "Low-Value Customer",
          "High-Value Customer",
          "High-Value Customer",
          "Medium-Value Customer",
          "High-Value Customer",
          "High-Value Customer",
          "High-Value Customer",
          "High-Value Customer",
          "High-Value Customer",
          "High-Value Customer",
          "High-Value Customer",
          "Low-Value Customer",
          "High-Value Customer",
          "High-Value Customer",
          "High-Value Customer",
          "High-Value Customer",
          "High-Value Customer",
          "Medium-Value Customer",
          "Medium-Value Customer",
          "Low-Value Customer",
          "High-Value Customer",
          "Low-Value Customer",
          "Medium-Value Customer",
          "High-Value Customer",
          "High-Value Customer",
          "High-Value Customer",
          "High-Value Customer",
          "High-Value Customer",
          "High-Value Customer",
          "High-Value Customer",
          "High-Value Customer",
          "High-Value Customer",
          "High-Value Customer"
         ],
         "xaxis": "x",
         "yaxis": "y"
        }
       ],
       "layout": {
        "autosize": true,
        "barmode": "relative",
        "legend": {
         "tracegroupgap": 0
        },
        "template": {
         "data": {
          "bar": [
           {
            "error_x": {
             "color": "#2a3f5f"
            },
            "error_y": {
             "color": "#2a3f5f"
            },
            "marker": {
             "line": {
              "color": "#E5ECF6",
              "width": 0.5
             },
             "pattern": {
              "fillmode": "overlay",
              "size": 10,
              "solidity": 0.2
             }
            },
            "type": "bar"
           }
          ],
          "barpolar": [
           {
            "marker": {
             "line": {
              "color": "#E5ECF6",
              "width": 0.5
             },
             "pattern": {
              "fillmode": "overlay",
              "size": 10,
              "solidity": 0.2
             }
            },
            "type": "barpolar"
           }
          ],
          "carpet": [
           {
            "aaxis": {
             "endlinecolor": "#2a3f5f",
             "gridcolor": "white",
             "linecolor": "white",
             "minorgridcolor": "white",
             "startlinecolor": "#2a3f5f"
            },
            "baxis": {
             "endlinecolor": "#2a3f5f",
             "gridcolor": "white",
             "linecolor": "white",
             "minorgridcolor": "white",
             "startlinecolor": "#2a3f5f"
            },
            "type": "carpet"
           }
          ],
          "choropleth": [
           {
            "colorbar": {
             "outlinewidth": 0,
             "ticks": ""
            },
            "type": "choropleth"
           }
          ],
          "contour": [
           {
            "colorbar": {
             "outlinewidth": 0,
             "ticks": ""
            },
            "colorscale": [
             [
              0,
              "#0d0887"
             ],
             [
              0.1111111111111111,
              "#46039f"
             ],
             [
              0.2222222222222222,
              "#7201a8"
             ],
             [
              0.3333333333333333,
              "#9c179e"
             ],
             [
              0.4444444444444444,
              "#bd3786"
             ],
             [
              0.5555555555555556,
              "#d8576b"
             ],
             [
              0.6666666666666666,
              "#ed7953"
             ],
             [
              0.7777777777777778,
              "#fb9f3a"
             ],
             [
              0.8888888888888888,
              "#fdca26"
             ],
             [
              1,
              "#f0f921"
             ]
            ],
            "type": "contour"
           }
          ],
          "contourcarpet": [
           {
            "colorbar": {
             "outlinewidth": 0,
             "ticks": ""
            },
            "type": "contourcarpet"
           }
          ],
          "heatmap": [
           {
            "colorbar": {
             "outlinewidth": 0,
             "ticks": ""
            },
            "colorscale": [
             [
              0,
              "#0d0887"
             ],
             [
              0.1111111111111111,
              "#46039f"
             ],
             [
              0.2222222222222222,
              "#7201a8"
             ],
             [
              0.3333333333333333,
              "#9c179e"
             ],
             [
              0.4444444444444444,
              "#bd3786"
             ],
             [
              0.5555555555555556,
              "#d8576b"
             ],
             [
              0.6666666666666666,
              "#ed7953"
             ],
             [
              0.7777777777777778,
              "#fb9f3a"
             ],
             [
              0.8888888888888888,
              "#fdca26"
             ],
             [
              1,
              "#f0f921"
             ]
            ],
            "type": "heatmap"
           }
          ],
          "heatmapgl": [
           {
            "colorbar": {
             "outlinewidth": 0,
             "ticks": ""
            },
            "colorscale": [
             [
              0,
              "#0d0887"
             ],
             [
              0.1111111111111111,
              "#46039f"
             ],
             [
              0.2222222222222222,
              "#7201a8"
             ],
             [
              0.3333333333333333,
              "#9c179e"
             ],
             [
              0.4444444444444444,
              "#bd3786"
             ],
             [
              0.5555555555555556,
              "#d8576b"
             ],
             [
              0.6666666666666666,
              "#ed7953"
             ],
             [
              0.7777777777777778,
              "#fb9f3a"
             ],
             [
              0.8888888888888888,
              "#fdca26"
             ],
             [
              1,
              "#f0f921"
             ]
            ],
            "type": "heatmapgl"
           }
          ],
          "histogram": [
           {
            "marker": {
             "pattern": {
              "fillmode": "overlay",
              "size": 10,
              "solidity": 0.2
             }
            },
            "type": "histogram"
           }
          ],
          "histogram2d": [
           {
            "colorbar": {
             "outlinewidth": 0,
             "ticks": ""
            },
            "colorscale": [
             [
              0,
              "#0d0887"
             ],
             [
              0.1111111111111111,
              "#46039f"
             ],
             [
              0.2222222222222222,
              "#7201a8"
             ],
             [
              0.3333333333333333,
              "#9c179e"
             ],
             [
              0.4444444444444444,
              "#bd3786"
             ],
             [
              0.5555555555555556,
              "#d8576b"
             ],
             [
              0.6666666666666666,
              "#ed7953"
             ],
             [
              0.7777777777777778,
              "#fb9f3a"
             ],
             [
              0.8888888888888888,
              "#fdca26"
             ],
             [
              1,
              "#f0f921"
             ]
            ],
            "type": "histogram2d"
           }
          ],
          "histogram2dcontour": [
           {
            "colorbar": {
             "outlinewidth": 0,
             "ticks": ""
            },
            "colorscale": [
             [
              0,
              "#0d0887"
             ],
             [
              0.1111111111111111,
              "#46039f"
             ],
             [
              0.2222222222222222,
              "#7201a8"
             ],
             [
              0.3333333333333333,
              "#9c179e"
             ],
             [
              0.4444444444444444,
              "#bd3786"
             ],
             [
              0.5555555555555556,
              "#d8576b"
             ],
             [
              0.6666666666666666,
              "#ed7953"
             ],
             [
              0.7777777777777778,
              "#fb9f3a"
             ],
             [
              0.8888888888888888,
              "#fdca26"
             ],
             [
              1,
              "#f0f921"
             ]
            ],
            "type": "histogram2dcontour"
           }
          ],
          "mesh3d": [
           {
            "colorbar": {
             "outlinewidth": 0,
             "ticks": ""
            },
            "type": "mesh3d"
           }
          ],
          "parcoords": [
           {
            "line": {
             "colorbar": {
              "outlinewidth": 0,
              "ticks": ""
             }
            },
            "type": "parcoords"
           }
          ],
          "pie": [
           {
            "automargin": true,
            "type": "pie"
           }
          ],
          "scatter": [
           {
            "fillpattern": {
             "fillmode": "overlay",
             "size": 10,
             "solidity": 0.2
            },
            "type": "scatter"
           }
          ],
          "scatter3d": [
           {
            "line": {
             "colorbar": {
              "outlinewidth": 0,
              "ticks": ""
             }
            },
            "marker": {
             "colorbar": {
              "outlinewidth": 0,
              "ticks": ""
             }
            },
            "type": "scatter3d"
           }
          ],
          "scattercarpet": [
           {
            "marker": {
             "colorbar": {
              "outlinewidth": 0,
              "ticks": ""
             }
            },
            "type": "scattercarpet"
           }
          ],
          "scattergeo": [
           {
            "marker": {
             "colorbar": {
              "outlinewidth": 0,
              "ticks": ""
             }
            },
            "type": "scattergeo"
           }
          ],
          "scattergl": [
           {
            "marker": {
             "colorbar": {
              "outlinewidth": 0,
              "ticks": ""
             }
            },
            "type": "scattergl"
           }
          ],
          "scattermapbox": [
           {
            "marker": {
             "colorbar": {
              "outlinewidth": 0,
              "ticks": ""
             }
            },
            "type": "scattermapbox"
           }
          ],
          "scatterpolar": [
           {
            "marker": {
             "colorbar": {
              "outlinewidth": 0,
              "ticks": ""
             }
            },
            "type": "scatterpolar"
           }
          ],
          "scatterpolargl": [
           {
            "marker": {
             "colorbar": {
              "outlinewidth": 0,
              "ticks": ""
             }
            },
            "type": "scatterpolargl"
           }
          ],
          "scatterternary": [
           {
            "marker": {
             "colorbar": {
              "outlinewidth": 0,
              "ticks": ""
             }
            },
            "type": "scatterternary"
           }
          ],
          "surface": [
           {
            "colorbar": {
             "outlinewidth": 0,
             "ticks": ""
            },
            "colorscale": [
             [
              0,
              "#0d0887"
             ],
             [
              0.1111111111111111,
              "#46039f"
             ],
             [
              0.2222222222222222,
              "#7201a8"
             ],
             [
              0.3333333333333333,
              "#9c179e"
             ],
             [
              0.4444444444444444,
              "#bd3786"
             ],
             [
              0.5555555555555556,
              "#d8576b"
             ],
             [
              0.6666666666666666,
              "#ed7953"
             ],
             [
              0.7777777777777778,
              "#fb9f3a"
             ],
             [
              0.8888888888888888,
              "#fdca26"
             ],
             [
              1,
              "#f0f921"
             ]
            ],
            "type": "surface"
           }
          ],
          "table": [
           {
            "cells": {
             "fill": {
              "color": "#EBF0F8"
             },
             "line": {
              "color": "white"
             }
            },
            "header": {
             "fill": {
              "color": "#C8D4E3"
             },
             "line": {
              "color": "white"
             }
            },
            "type": "table"
           }
          ]
         },
         "layout": {
          "annotationdefaults": {
           "arrowcolor": "#2a3f5f",
           "arrowhead": 0,
           "arrowwidth": 1
          },
          "autotypenumbers": "strict",
          "coloraxis": {
           "colorbar": {
            "outlinewidth": 0,
            "ticks": ""
           }
          },
          "colorscale": {
           "diverging": [
            [
             0,
             "#8e0152"
            ],
            [
             0.1,
             "#c51b7d"
            ],
            [
             0.2,
             "#de77ae"
            ],
            [
             0.3,
             "#f1b6da"
            ],
            [
             0.4,
             "#fde0ef"
            ],
            [
             0.5,
             "#f7f7f7"
            ],
            [
             0.6,
             "#e6f5d0"
            ],
            [
             0.7,
             "#b8e186"
            ],
            [
             0.8,
             "#7fbc41"
            ],
            [
             0.9,
             "#4d9221"
            ],
            [
             1,
             "#276419"
            ]
           ],
           "sequential": [
            [
             0,
             "#0d0887"
            ],
            [
             0.1111111111111111,
             "#46039f"
            ],
            [
             0.2222222222222222,
             "#7201a8"
            ],
            [
             0.3333333333333333,
             "#9c179e"
            ],
            [
             0.4444444444444444,
             "#bd3786"
            ],
            [
             0.5555555555555556,
             "#d8576b"
            ],
            [
             0.6666666666666666,
             "#ed7953"
            ],
            [
             0.7777777777777778,
             "#fb9f3a"
            ],
            [
             0.8888888888888888,
             "#fdca26"
            ],
            [
             1,
             "#f0f921"
            ]
           ],
           "sequentialminus": [
            [
             0,
             "#0d0887"
            ],
            [
             0.1111111111111111,
             "#46039f"
            ],
            [
             0.2222222222222222,
             "#7201a8"
            ],
            [
             0.3333333333333333,
             "#9c179e"
            ],
            [
             0.4444444444444444,
             "#bd3786"
            ],
            [
             0.5555555555555556,
             "#d8576b"
            ],
            [
             0.6666666666666666,
             "#ed7953"
            ],
            [
             0.7777777777777778,
             "#fb9f3a"
            ],
            [
             0.8888888888888888,
             "#fdca26"
            ],
            [
             1,
             "#f0f921"
            ]
           ]
          },
          "colorway": [
           "#636efa",
           "#EF553B",
           "#00cc96",
           "#ab63fa",
           "#FFA15A",
           "#19d3f3",
           "#FF6692",
           "#B6E880",
           "#FF97FF",
           "#FECB52"
          ],
          "font": {
           "color": "#2a3f5f"
          },
          "geo": {
           "bgcolor": "white",
           "lakecolor": "white",
           "landcolor": "#E5ECF6",
           "showlakes": true,
           "showland": true,
           "subunitcolor": "white"
          },
          "hoverlabel": {
           "align": "left"
          },
          "hovermode": "closest",
          "mapbox": {
           "style": "light"
          },
          "paper_bgcolor": "white",
          "plot_bgcolor": "#E5ECF6",
          "polar": {
           "angularaxis": {
            "gridcolor": "white",
            "linecolor": "white",
            "ticks": ""
           },
           "bgcolor": "#E5ECF6",
           "radialaxis": {
            "gridcolor": "white",
            "linecolor": "white",
            "ticks": ""
           }
          },
          "scene": {
           "xaxis": {
            "backgroundcolor": "#E5ECF6",
            "gridcolor": "white",
            "gridwidth": 2,
            "linecolor": "white",
            "showbackground": true,
            "ticks": "",
            "zerolinecolor": "white"
           },
           "yaxis": {
            "backgroundcolor": "#E5ECF6",
            "gridcolor": "white",
            "gridwidth": 2,
            "linecolor": "white",
            "showbackground": true,
            "ticks": "",
            "zerolinecolor": "white"
           },
           "zaxis": {
            "backgroundcolor": "#E5ECF6",
            "gridcolor": "white",
            "gridwidth": 2,
            "linecolor": "white",
            "showbackground": true,
            "ticks": "",
            "zerolinecolor": "white"
           }
          },
          "shapedefaults": {
           "line": {
            "color": "#2a3f5f"
           }
          },
          "ternary": {
           "aaxis": {
            "gridcolor": "white",
            "linecolor": "white",
            "ticks": ""
           },
           "baxis": {
            "gridcolor": "white",
            "linecolor": "white",
            "ticks": ""
           },
           "bgcolor": "#E5ECF6",
           "caxis": {
            "gridcolor": "white",
            "linecolor": "white",
            "ticks": ""
           }
          },
          "title": {
           "x": 0.05
          },
          "xaxis": {
           "automargin": true,
           "gridcolor": "white",
           "linecolor": "white",
           "ticks": "",
           "title": {
            "standoff": 15
           },
           "zerolinecolor": "white",
           "zerolinewidth": 2
          },
          "yaxis": {
           "automargin": true,
           "gridcolor": "white",
           "linecolor": "white",
           "ticks": "",
           "title": {
            "standoff": 15
           },
           "zerolinecolor": "white",
           "zerolinewidth": 2
          }
         }
        },
        "title": {
         "text": "Customer Segmentation based on Total Sales"
        },
        "xaxis": {
         "anchor": "y",
         "autorange": true,
         "domain": [
          0,
          1
         ],
         "range": [
          -0.5,
          2.5
         ],
         "title": {
          "text": "CustomerSegment"
         },
         "type": "category"
        },
        "yaxis": {
         "anchor": "x",
         "autorange": true,
         "domain": [
          0,
          1
         ],
         "range": [
          0,
          658.9473684210526
         ],
         "title": {
          "text": "count"
         }
        }
       }
      },
      "image/png": "[encoded data removed]",
      "text/html": [
       "<div>                            <div id=\"9f1f6a88-dcd8-47a7-bdd3-006dbe9b3086\" class=\"plotly-graph-div\" style=\"height:525px; width:100%;\"></div>            <script type=\"text/javascript\">                require([\"plotly\"], function(Plotly) {                    window.PLOTLYENV=window.PLOTLYENV || {};                                    if (document.getElementById(\"9f1f6a88-dcd8-47a7-bdd3-006dbe9b3086\")) {                    Plotly.newPlot(                        \"9f1f6a88-dcd8-47a7-bdd3-006dbe9b3086\",                        [{\"alignmentgroup\":\"True\",\"bingroup\":\"x\",\"hovertemplate\":\"CustomerSegment=%{x}<br>count=%{y}<extra></extra>\",\"legendgroup\":\"\",\"marker\":{\"color\":\"#636efa\",\"pattern\":{\"shape\":\"\"}},\"name\":\"\",\"offsetgroup\":\"\",\"orientation\":\"v\",\"showlegend\":false,\"x\":[\"High-Value Customer\",\"High-Value Customer\",\"High-Value Customer\",\"High-Value Customer\",\"Medium-Value Customer\",\"High-Value Customer\",\"High-Value Customer\",\"Medium-Value Customer\",\"High-Value Customer\",\"Medium-Value Customer\",\"High-Value Customer\",\"Medium-Value Customer\",\"High-Value Customer\",\"High-Value Customer\",\"Medium-Value Customer\",\"High-Value Customer\",\"High-Value Customer\",\"Medium-Value Customer\",\"High-Value Customer\",\"Low-Value Customer\",\"Medium-Value Customer\",\"Low-Value Customer\",\"High-Value Customer\",\"High-Value Customer\",\"High-Value Customer\",\"Low-Value Customer\",\"High-Value Customer\",\"High-Value Customer\",\"High-Value Customer\",\"High-Value Customer\",\"High-Value Customer\",\"High-Value Customer\",\"High-Value Customer\",\"Medium-Value Customer\",\"High-Value Customer\",\"High-Value Customer\",\"High-Value Customer\",\"High-Value Customer\",\"High-Value Customer\",\"Medium-Value Customer\",\"Medium-Value Customer\",\"High-Value Customer\",\"Low-Value Customer\",\"High-Value Customer\",\"High-Value Customer\",\"High-Value Customer\",\"High-Value Customer\",\"Low-Value Customer\",\"High-Value Customer\",\"Low-Value Customer\",\"High-Value Customer\",\"High-Value Customer\",\"High-Value Customer\",\"Low-Value Customer\",\"High-Value Customer\",\"Medium-Value Customer\",\"High-Value Customer\",\"Medium-Value Customer\",\"High-Value Customer\",\"High-Value Customer\",\"Medium-Value Customer\",\"High-Value Customer\",\"Low-Value Customer\",\"High-Value Customer\",\"Medium-Value Customer\",\"High-Value Customer\",\"High-Value Customer\",\"High-Value Customer\",\"High-Value Customer\",\"Low-Value Customer\",\"High-Value Customer\",\"High-Value Customer\",\"Medium-Value Customer\",\"High-Value Customer\",\"Medium-Value Customer\",\"High-Value Customer\",\"High-Value Customer\",\"High-Value Customer\",\"Medium-Value Customer\",\"High-Value Customer\",\"High-Value Customer\",\"Low-Value Customer\",\"High-Value Customer\",\"High-Value Customer\",\"Medium-Value Customer\",\"High-Value Customer\",\"High-Value Customer\",\"High-Value Customer\",\"High-Value Customer\",\"Medium-Value Customer\",\"High-Value Customer\",\"Medium-Value Customer\",\"High-Value Customer\",\"High-Value Customer\",\"Low-Value Customer\",\"High-Value Customer\",\"High-Value Customer\",\"Low-Value Customer\",\"Medium-Value Customer\",\"High-Value Customer\",\"High-Value Customer\",\"High-Value Customer\",\"High-Value Customer\",\"High-Value Customer\",\"High-Value Customer\",\"High-Value Customer\",\"High-Value Customer\",\"High-Value Customer\",\"High-Value Customer\",\"Medium-Value Customer\",\"High-Value Customer\",\"High-Value Customer\",\"Medium-Value Customer\",\"Low-Value Customer\",\"High-Value Customer\",\"High-Value Customer\",\"High-Value Customer\",\"Low-Value Customer\",\"High-Value Customer\",\"High-Value Customer\",\"High-Value Customer\",\"High-Value Customer\",\"High-Value Customer\",\"High-Value Customer\",\"High-Value Customer\",\"High-Value Customer\",\"High-Value Customer\",\"High-Value Customer\",\"High-Value Customer\",\"High-Value Customer\",\"High-Value Customer\",\"High-Value Customer\",\"High-Value Customer\",\"High-Value Customer\",\"Low-Value Customer\",\"High-Value Customer\",\"High-Value Customer\",\"High-Value Customer\",\"High-Value Customer\",\"Medium-Value Customer\",\"High-Value Customer\",\"High-Value Customer\",\"Medium-Value Customer\",\"High-Value Customer\",\"High-Value Customer\",\"Low-Value Customer\",\"High-Value Customer\",\"High-Value Customer\",\"High-Value Customer\",\"High-Value Customer\",\"High-Value Customer\",\"High-Value Customer\",\"High-Value Customer\",\"High-Value Customer\",\"High-Value Customer\",\"Medium-Value Customer\",\"High-Value Customer\",\"High-Value Customer\",\"High-Value Customer\",\"High-Value Customer\",\"High-Value Customer\",\"Low-Value Customer\",\"High-Value Customer\",\"High-Value Customer\",\"High-Value Customer\",\"High-Value Customer\",\"High-Value Customer\",\"Low-Value Customer\",\"High-Value Customer\",\"High-Value Customer\",\"High-Value Customer\",\"Medium-Value Customer\",\"High-Value Customer\",\"Medium-Value Customer\",\"Medium-Value Customer\",\"High-Value Customer\",\"High-Value Customer\",\"High-Value Customer\",\"Medium-Value Customer\",\"High-Value Customer\",\"High-Value Customer\",\"High-Value Customer\",\"High-Value Customer\",\"High-Value Customer\",\"High-Value Customer\",\"High-Value Customer\",\"High-Value Customer\",\"Low-Value Customer\",\"High-Value Customer\",\"High-Value Customer\",\"High-Value Customer\",\"High-Value Customer\",\"High-Value Customer\",\"High-Value Customer\",\"High-Value Customer\",\"High-Value Customer\",\"High-Value Customer\",\"High-Value Customer\",\"High-Value Customer\",\"High-Value Customer\",\"High-Value Customer\",\"Low-Value Customer\",\"High-Value Customer\",\"High-Value Customer\",\"High-Value Customer\",\"High-Value Customer\",\"High-Value Customer\",\"High-Value Customer\",\"High-Value Customer\",\"High-Value Customer\",\"High-Value Customer\",\"High-Value Customer\",\"High-Value Customer\",\"High-Value Customer\",\"Medium-Value Customer\",\"High-Value Customer\",\"High-Value Customer\",\"High-Value Customer\",\"High-Value Customer\",\"High-Value Customer\",\"Medium-Value Customer\",\"High-Value Customer\",\"High-Value Customer\",\"High-Value Customer\",\"High-Value Customer\",\"High-Value Customer\",\"High-Value Customer\",\"High-Value Customer\",\"High-Value Customer\",\"High-Value Customer\",\"High-Value Customer\",\"High-Value Customer\",\"High-Value Customer\",\"High-Value Customer\",\"High-Value Customer\",\"High-Value Customer\",\"High-Value Customer\",\"High-Value Customer\",\"High-Value Customer\",\"High-Value Customer\",\"High-Value Customer\",\"Low-Value Customer\",\"High-Value Customer\",\"Medium-Value Customer\",\"High-Value Customer\",\"High-Value Customer\",\"High-Value Customer\",\"High-Value Customer\",\"High-Value Customer\",\"High-Value Customer\",\"Medium-Value Customer\",\"High-Value Customer\",\"High-Value Customer\",\"High-Value Customer\",\"Low-Value Customer\",\"High-Value Customer\",\"High-Value Customer\",\"High-Value Customer\",\"Medium-Value Customer\",\"Medium-Value Customer\",\"High-Value Customer\",\"High-Value Customer\",\"Medium-Value Customer\",\"High-Value Customer\",\"High-Value Customer\",\"High-Value Customer\",\"Low-Value Customer\",\"High-Value Customer\",\"High-Value Customer\",\"Medium-Value Customer\",\"Low-Value Customer\",\"High-Value Customer\",\"High-Value Customer\",\"Low-Value Customer\",\"High-Value Customer\",\"High-Value Customer\",\"High-Value Customer\",\"High-Value Customer\",\"High-Value Customer\",\"High-Value Customer\",\"High-Value Customer\",\"High-Value Customer\",\"High-Value Customer\",\"High-Value Customer\",\"High-Value Customer\",\"High-Value Customer\",\"High-Value Customer\",\"High-Value Customer\",\"High-Value Customer\",\"High-Value Customer\",\"High-Value Customer\",\"Low-Value Customer\",\"High-Value Customer\",\"High-Value Customer\",\"High-Value Customer\",\"High-Value Customer\",\"High-Value Customer\",\"High-Value Customer\",\"High-Value Customer\",\"High-Value Customer\",\"High-Value Customer\",\"Low-Value Customer\",\"High-Value Customer\",\"High-Value Customer\",\"High-Value Customer\",\"High-Value Customer\",\"High-Value Customer\",\"High-Value Customer\",\"Low-Value Customer\",\"High-Value Customer\",\"High-Value Customer\",\"High-Value Customer\",\"Low-Value Customer\",\"High-Value Customer\",\"High-Value Customer\",\"High-Value Customer\",\"High-Value Customer\",\"High-Value Customer\",\"Low-Value Customer\",\"Medium-Value Customer\",\"High-Value Customer\",\"Medium-Value Customer\",\"High-Value Customer\",\"High-Value Customer\",\"Low-Value Customer\",\"Low-Value Customer\",\"High-Value Customer\",\"High-Value Customer\",\"High-Value Customer\",\"Medium-Value Customer\",\"High-Value Customer\",\"High-Value Customer\",\"High-Value Customer\",\"High-Value Customer\",\"Medium-Value Customer\",\"Medium-Value Customer\",\"High-Value Customer\",\"High-Value Customer\",\"High-Value Customer\",\"High-Value Customer\",\"High-Value Customer\",\"Medium-Value Customer\",\"Medium-Value Customer\",\"High-Value Customer\",\"Low-Value Customer\",\"High-Value Customer\",\"High-Value Customer\",\"Medium-Value Customer\",\"High-Value Customer\",\"High-Value Customer\",\"Low-Value Customer\",\"Medium-Value Customer\",\"High-Value Customer\",\"High-Value Customer\",\"High-Value Customer\",\"High-Value Customer\",\"High-Value Customer\",\"High-Value Customer\",\"High-Value Customer\",\"Medium-Value Customer\",\"High-Value Customer\",\"High-Value Customer\",\"High-Value Customer\",\"High-Value Customer\",\"High-Value Customer\",\"High-Value Customer\",\"High-Value Customer\",\"High-Value Customer\",\"Low-Value Customer\",\"Medium-Value Customer\",\"Medium-Value Customer\",\"High-Value Customer\",\"High-Value Customer\",\"Medium-Value Customer\",\"Low-Value Customer\",\"High-Value Customer\",\"Low-Value Customer\",\"High-Value Customer\",\"High-Value Customer\",\"High-Value Customer\",\"High-Value Customer\",\"High-Value Customer\",\"High-Value Customer\",\"High-Value Customer\",\"High-Value Customer\",\"High-Value Customer\",\"High-Value Customer\",\"High-Value Customer\",\"High-Value Customer\",\"High-Value Customer\",\"High-Value Customer\",\"High-Value Customer\",\"Low-Value Customer\",\"Medium-Value Customer\",\"High-Value Customer\",\"High-Value Customer\",\"High-Value Customer\",\"High-Value Customer\",\"High-Value Customer\",\"High-Value Customer\",\"High-Value Customer\",\"High-Value Customer\",\"High-Value Customer\",\"Medium-Value Customer\",\"High-Value Customer\",\"High-Value Customer\",\"High-Value Customer\",\"High-Value Customer\",\"Low-Value Customer\",\"High-Value Customer\",\"High-Value Customer\",\"High-Value Customer\",\"High-Value Customer\",\"High-Value Customer\",\"High-Value Customer\",\"High-Value Customer\",\"Medium-Value Customer\",\"High-Value Customer\",\"Medium-Value Customer\",\"High-Value Customer\",\"High-Value Customer\",\"High-Value Customer\",\"High-Value Customer\",\"High-Value Customer\",\"High-Value Customer\",\"High-Value Customer\",\"High-Value Customer\",\"High-Value Customer\",\"High-Value Customer\",\"High-Value Customer\",\"High-Value Customer\",\"High-Value Customer\",\"High-Value Customer\",\"High-Value Customer\",\"High-Value Customer\",\"High-Value Customer\",\"High-Value Customer\",\"Low-Value Customer\",\"High-Value Customer\",\"High-Value Customer\",\"High-Value Customer\",\"High-Value Customer\",\"Low-Value Customer\",\"High-Value Customer\",\"High-Value Customer\",\"High-Value Customer\",\"Low-Value Customer\",\"High-Value Customer\",\"Low-Value Customer\",\"High-Value Customer\",\"High-Value Customer\",\"High-Value Customer\",\"High-Value Customer\",\"High-Value Customer\",\"High-Value Customer\",\"High-Value Customer\",\"Low-Value Customer\",\"High-Value Customer\",\"High-Value Customer\",\"High-Value Customer\",\"Low-Value Customer\",\"High-Value Customer\",\"Low-Value Customer\",\"High-Value Customer\",\"High-Value Customer\",\"High-Value Customer\",\"Medium-Value Customer\",\"Medium-Value Customer\",\"High-Value Customer\",\"High-Value Customer\",\"High-Value Customer\",\"High-Value Customer\",\"High-Value Customer\",\"High-Value Customer\",\"Low-Value Customer\",\"High-Value Customer\",\"Low-Value Customer\",\"High-Value Customer\",\"High-Value Customer\",\"High-Value Customer\",\"High-Value Customer\",\"High-Value Customer\",\"High-Value Customer\",\"High-Value Customer\",\"High-Value Customer\",\"High-Value Customer\",\"High-Value Customer\",\"High-Value Customer\",\"High-Value Customer\",\"High-Value Customer\",\"High-Value Customer\",\"Medium-Value Customer\",\"High-Value Customer\",\"High-Value Customer\",\"High-Value Customer\",\"High-Value Customer\",\"High-Value Customer\",\"High-Value Customer\",\"High-Value Customer\",\"High-Value Customer\",\"Medium-Value Customer\",\"High-Value Customer\",\"High-Value Customer\",\"High-Value Customer\",\"High-Value Customer\",\"High-Value Customer\",\"Medium-Value Customer\",\"High-Value Customer\",\"Low-Value Customer\",\"High-Value Customer\",\"Low-Value Customer\",\"High-Value Customer\",\"High-Value Customer\",\"High-Value Customer\",\"High-Value Customer\",\"High-Value Customer\",\"High-Value Customer\",\"High-Value Customer\",\"High-Value Customer\",\"High-Value Customer\",\"High-Value Customer\",\"High-Value Customer\",\"Medium-Value Customer\",\"Low-Value Customer\",\"High-Value Customer\",\"High-Value Customer\",\"High-Value Customer\",\"Medium-Value Customer\",\"High-Value Customer\",\"Medium-Value Customer\",\"High-Value Customer\",\"Low-Value Customer\",\"High-Value Customer\",\"High-Value Customer\",\"High-Value Customer\",\"Medium-Value Customer\",\"High-Value Customer\",\"Low-Value Customer\",\"High-Value Customer\",\"High-Value Customer\",\"Low-Value Customer\",\"Medium-Value Customer\",\"High-Value Customer\",\"High-Value Customer\",\"High-Value Customer\",\"High-Value Customer\",\"High-Value Customer\",\"High-Value Customer\",\"High-Value Customer\",\"High-Value Customer\",\"Medium-Value Customer\",\"High-Value Customer\",\"Low-Value Customer\",\"High-Value Customer\",\"High-Value Customer\",\"High-Value Customer\",\"High-Value Customer\",\"High-Value Customer\",\"High-Value Customer\",\"High-Value Customer\",\"High-Value Customer\",\"Low-Value Customer\",\"High-Value Customer\",\"High-Value Customer\",\"High-Value Customer\",\"High-Value Customer\",\"Medium-Value Customer\",\"High-Value Customer\",\"High-Value Customer\",\"High-Value Customer\",\"High-Value Customer\",\"High-Value Customer\",\"High-Value Customer\",\"High-Value Customer\",\"High-Value Customer\",\"High-Value Customer\",\"High-Value Customer\",\"High-Value Customer\",\"High-Value Customer\",\"High-Value Customer\",\"High-Value Customer\",\"Medium-Value Customer\",\"Medium-Value Customer\",\"Medium-Value Customer\",\"High-Value Customer\",\"Low-Value Customer\",\"High-Value Customer\",\"High-Value Customer\",\"High-Value Customer\",\"High-Value Customer\",\"High-Value Customer\",\"High-Value Customer\",\"High-Value Customer\",\"Medium-Value Customer\",\"High-Value Customer\",\"High-Value Customer\",\"High-Value Customer\",\"High-Value Customer\",\"Low-Value Customer\",\"High-Value Customer\",\"High-Value Customer\",\"High-Value Customer\",\"High-Value Customer\",\"High-Value Customer\",\"High-Value Customer\",\"High-Value Customer\",\"High-Value Customer\",\"High-Value Customer\",\"High-Value Customer\",\"High-Value Customer\",\"High-Value Customer\",\"Low-Value Customer\",\"High-Value Customer\",\"High-Value Customer\",\"High-Value Customer\",\"High-Value Customer\",\"High-Value Customer\",\"High-Value Customer\",\"High-Value Customer\",\"High-Value Customer\",\"High-Value Customer\",\"High-Value Customer\",\"High-Value Customer\",\"High-Value Customer\",\"Medium-Value Customer\",\"Low-Value Customer\",\"High-Value Customer\",\"High-Value Customer\",\"Medium-Value Customer\",\"Medium-Value Customer\",\"High-Value Customer\",\"High-Value Customer\",\"High-Value Customer\",\"High-Value Customer\",\"High-Value Customer\",\"High-Value Customer\",\"Medium-Value Customer\",\"Low-Value Customer\",\"Medium-Value Customer\",\"High-Value Customer\",\"High-Value Customer\",\"Medium-Value Customer\",\"High-Value Customer\",\"High-Value Customer\",\"Medium-Value Customer\",\"High-Value Customer\",\"High-Value Customer\",\"High-Value Customer\",\"High-Value Customer\",\"High-Value Customer\",\"Low-Value Customer\",\"High-Value Customer\",\"Medium-Value Customer\",\"High-Value Customer\",\"High-Value Customer\",\"Medium-Value Customer\",\"High-Value Customer\",\"High-Value Customer\",\"High-Value Customer\",\"Low-Value Customer\",\"High-Value Customer\",\"High-Value Customer\",\"High-Value Customer\",\"High-Value Customer\",\"High-Value Customer\",\"High-Value Customer\",\"High-Value Customer\",\"High-Value Customer\",\"High-Value Customer\",\"High-Value Customer\",\"High-Value Customer\",\"High-Value Customer\",\"High-Value Customer\",\"High-Value Customer\",\"High-Value Customer\",\"Medium-Value Customer\",\"High-Value Customer\",\"High-Value Customer\",\"High-Value Customer\",\"High-Value Customer\",\"Low-Value Customer\",\"Low-Value Customer\",\"High-Value Customer\",\"High-Value Customer\",\"Medium-Value Customer\",\"High-Value Customer\",\"High-Value Customer\",\"High-Value Customer\",\"High-Value Customer\",\"High-Value Customer\",\"Low-Value Customer\",\"High-Value Customer\",\"High-Value Customer\",\"High-Value Customer\",\"High-Value Customer\",\"High-Value Customer\",\"High-Value Customer\",\"Medium-Value Customer\",\"High-Value Customer\",\"Low-Value Customer\",\"High-Value Customer\",\"High-Value Customer\",\"High-Value Customer\",\"High-Value Customer\",\"High-Value Customer\",\"High-Value Customer\",\"High-Value Customer\",\"High-Value Customer\",\"High-Value Customer\",\"High-Value Customer\",\"High-Value Customer\",\"High-Value Customer\",\"High-Value Customer\",\"High-Value Customer\",\"High-Value Customer\",\"Medium-Value Customer\",\"Low-Value Customer\",\"Medium-Value Customer\",\"Low-Value Customer\",\"High-Value Customer\",\"High-Value Customer\",\"High-Value Customer\",\"High-Value Customer\",\"High-Value Customer\",\"High-Value Customer\",\"High-Value Customer\",\"High-Value Customer\",\"High-Value Customer\",\"Medium-Value Customer\",\"High-Value Customer\",\"High-Value Customer\",\"High-Value Customer\",\"High-Value Customer\",\"Medium-Value Customer\",\"High-Value Customer\",\"High-Value Customer\",\"Medium-Value Customer\",\"High-Value Customer\",\"High-Value Customer\",\"High-Value Customer\",\"High-Value Customer\",\"High-Value Customer\",\"High-Value Customer\",\"High-Value Customer\",\"High-Value Customer\",\"Medium-Value Customer\",\"High-Value Customer\",\"High-Value Customer\",\"High-Value Customer\",\"High-Value Customer\",\"High-Value Customer\",\"High-Value Customer\",\"High-Value Customer\",\"High-Value Customer\",\"High-Value Customer\",\"High-Value Customer\",\"High-Value Customer\",\"High-Value Customer\",\"High-Value Customer\",\"Medium-Value Customer\",\"Low-Value Customer\",\"High-Value Customer\",\"High-Value Customer\",\"Medium-Value Customer\",\"High-Value Customer\",\"High-Value Customer\",\"High-Value Customer\",\"High-Value Customer\",\"High-Value Customer\",\"High-Value Customer\",\"High-Value Customer\",\"Low-Value Customer\",\"High-Value Customer\",\"High-Value Customer\",\"High-Value Customer\",\"High-Value Customer\",\"High-Value Customer\",\"Medium-Value Customer\",\"Medium-Value Customer\",\"Low-Value Customer\",\"High-Value Customer\",\"Low-Value Customer\",\"Medium-Value Customer\",\"High-Value Customer\",\"High-Value Customer\",\"High-Value Customer\",\"High-Value Customer\",\"High-Value Customer\",\"High-Value Customer\",\"High-Value Customer\",\"High-Value Customer\",\"High-Value Customer\",\"High-Value Customer\"],\"xaxis\":\"x\",\"yaxis\":\"y\",\"type\":\"histogram\"}],                        {\"template\":{\"data\":{\"histogram2dcontour\":[{\"type\":\"histogram2dcontour\",\"colorbar\":{\"outlinewidth\":0,\"ticks\":\"\"},\"colorscale\":[[0.0,\"#0d0887\"],[0.1111111111111111,\"#46039f\"],[0.2222222222222222,\"#7201a8\"],[0.3333333333333333,\"#9c179e\"],[0.4444444444444444,\"#bd3786\"],[0.5555555555555556,\"#d8576b\"],[0.6666666666666666,\"#ed7953\"],[0.7777777777777778,\"#fb9f3a\"],[0.8888888888888888,\"#fdca26\"],[1.0,\"#f0f921\"]]}],\"choropleth\":[{\"type\":\"choropleth\",\"colorbar\":{\"outlinewidth\":0,\"ticks\":\"\"}}],\"histogram2d\":[{\"type\":\"histogram2d\",\"colorbar\":{\"outlinewidth\":0,\"ticks\":\"\"},\"colorscale\":[[0.0,\"#0d0887\"],[0.1111111111111111,\"#46039f\"],[0.2222222222222222,\"#7201a8\"],[0.3333333333333333,\"#9c179e\"],[0.4444444444444444,\"#bd3786\"],[0.5555555555555556,\"#d8576b\"],[0.6666666666666666,\"#ed7953\"],[0.7777777777777778,\"#fb9f3a\"],[0.8888888888888888,\"#fdca26\"],[1.0,\"#f0f921\"]]}],\"heatmap\":[{\"type\":\"heatmap\",\"colorbar\":{\"outlinewidth\":0,\"ticks\":\"\"},\"colorscale\":[[0.0,\"#0d0887\"],[0.1111111111111111,\"#46039f\"],[0.2222222222222222,\"#7201a8\"],[0.3333333333333333,\"#9c179e\"],[0.4444444444444444,\"#bd3786\"],[0.5555555555555556,\"#d8576b\"],[0.6666666666666666,\"#ed7953\"],[0.7777777777777778,\"#fb9f3a\"],[0.8888888888888888,\"#fdca26\"],[1.0,\"#f0f921\"]]}],\"heatmapgl\":[{\"type\":\"heatmapgl\",\"colorbar\":{\"outlinewidth\":0,\"ticks\":\"\"},\"colorscale\":[[0.0,\"#0d0887\"],[0.1111111111111111,\"#46039f\"],[0.2222222222222222,\"#7201a8\"],[0.3333333333333333,\"#9c179e\"],[0.4444444444444444,\"#bd3786\"],[0.5555555555555556,\"#d8576b\"],[0.6666666666666666,\"#ed7953\"],[0.7777777777777778,\"#fb9f3a\"],[0.8888888888888888,\"#fdca26\"],[1.0,\"#f0f921\"]]}],\"contourcarpet\":[{\"type\":\"contourcarpet\",\"colorbar\":{\"outlinewidth\":0,\"ticks\":\"\"}}],\"contour\":[{\"type\":\"contour\",\"colorbar\":{\"outlinewidth\":0,\"ticks\":\"\"},\"colorscale\":[[0.0,\"#0d0887\"],[0.1111111111111111,\"#46039f\"],[0.2222222222222222,\"#7201a8\"],[0.3333333333333333,\"#9c179e\"],[0.4444444444444444,\"#bd3786\"],[0.5555555555555556,\"#d8576b\"],[0.6666666666666666,\"#ed7953\"],[0.7777777777777778,\"#fb9f3a\"],[0.8888888888888888,\"#fdca26\"],[1.0,\"#f0f921\"]]}],\"surface\":[{\"type\":\"surface\",\"colorbar\":{\"outlinewidth\":0,\"ticks\":\"\"},\"colorscale\":[[0.0,\"#0d0887\"],[0.1111111111111111,\"#46039f\"],[0.2222222222222222,\"#7201a8\"],[0.3333333333333333,\"#9c179e\"],[0.4444444444444444,\"#bd3786\"],[0.5555555555555556,\"#d8576b\"],[0.6666666666666666,\"#ed7953\"],[0.7777777777777778,\"#fb9f3a\"],[0.8888888888888888,\"#fdca26\"],[1.0,\"#f0f921\"]]}],\"mesh3d\":[{\"type\":\"mesh3d\",\"colorbar\":{\"outlinewidth\":0,\"ticks\":\"\"}}],\"scatter\":[{\"fillpattern\":{\"fillmode\":\"overlay\",\"size\":10,\"solidity\":0.2},\"type\":\"scatter\"}],\"parcoords\":[{\"type\":\"parcoords\",\"line\":{\"colorbar\":{\"outlinewidth\":0,\"ticks\":\"\"}}}],\"scatterpolargl\":[{\"type\":\"scatterpolargl\",\"marker\":{\"colorbar\":{\"outlinewidth\":0,\"ticks\":\"\"}}}],\"bar\":[{\"error_x\":{\"color\":\"#2a3f5f\"},\"error_y\":{\"color\":\"#2a3f5f\"},\"marker\":{\"line\":{\"color\":\"#E5ECF6\",\"width\":0.5},\"pattern\":{\"fillmode\":\"overlay\",\"size\":10,\"solidity\":0.2}},\"type\":\"bar\"}],\"scattergeo\":[{\"type\":\"scattergeo\",\"marker\":{\"colorbar\":{\"outlinewidth\":0,\"ticks\":\"\"}}}],\"scatterpolar\":[{\"type\":\"scatterpolar\",\"marker\":{\"colorbar\":{\"outlinewidth\":0,\"ticks\":\"\"}}}],\"histogram\":[{\"marker\":{\"pattern\":{\"fillmode\":\"overlay\",\"size\":10,\"solidity\":0.2}},\"type\":\"histogram\"}],\"scattergl\":[{\"type\":\"scattergl\",\"marker\":{\"colorbar\":{\"outlinewidth\":0,\"ticks\":\"\"}}}],\"scatter3d\":[{\"type\":\"scatter3d\",\"line\":{\"colorbar\":{\"outlinewidth\":0,\"ticks\":\"\"}},\"marker\":{\"colorbar\":{\"outlinewidth\":0,\"ticks\":\"\"}}}],\"scattermapbox\":[{\"type\":\"scattermapbox\",\"marker\":{\"colorbar\":{\"outlinewidth\":0,\"ticks\":\"\"}}}],\"scatterternary\":[{\"type\":\"scatterternary\",\"marker\":{\"colorbar\":{\"outlinewidth\":0,\"ticks\":\"\"}}}],\"scattercarpet\":[{\"type\":\"scattercarpet\",\"marker\":{\"colorbar\":{\"outlinewidth\":0,\"ticks\":\"\"}}}],\"carpet\":[{\"aaxis\":{\"endlinecolor\":\"#2a3f5f\",\"gridcolor\":\"white\",\"linecolor\":\"white\",\"minorgridcolor\":\"white\",\"startlinecolor\":\"#2a3f5f\"},\"baxis\":{\"endlinecolor\":\"#2a3f5f\",\"gridcolor\":\"white\",\"linecolor\":\"white\",\"minorgridcolor\":\"white\",\"startlinecolor\":\"#2a3f5f\"},\"type\":\"carpet\"}],\"table\":[{\"cells\":{\"fill\":{\"color\":\"#EBF0F8\"},\"line\":{\"color\":\"white\"}},\"header\":{\"fill\":{\"color\":\"#C8D4E3\"},\"line\":{\"color\":\"white\"}},\"type\":\"table\"}],\"barpolar\":[{\"marker\":{\"line\":{\"color\":\"#E5ECF6\",\"width\":0.5},\"pattern\":{\"fillmode\":\"overlay\",\"size\":10,\"solidity\":0.2}},\"type\":\"barpolar\"}],\"pie\":[{\"automargin\":true,\"type\":\"pie\"}]},\"layout\":{\"autotypenumbers\":\"strict\",\"colorway\":[\"#636efa\",\"#EF553B\",\"#00cc96\",\"#ab63fa\",\"#FFA15A\",\"#19d3f3\",\"#FF6692\",\"#B6E880\",\"#FF97FF\",\"#FECB52\"],\"font\":{\"color\":\"#2a3f5f\"},\"hovermode\":\"closest\",\"hoverlabel\":{\"align\":\"left\"},\"paper_bgcolor\":\"white\",\"plot_bgcolor\":\"#E5ECF6\",\"polar\":{\"bgcolor\":\"#E5ECF6\",\"angularaxis\":{\"gridcolor\":\"white\",\"linecolor\":\"white\",\"ticks\":\"\"},\"radialaxis\":{\"gridcolor\":\"white\",\"linecolor\":\"white\",\"ticks\":\"\"}},\"ternary\":{\"bgcolor\":\"#E5ECF6\",\"aaxis\":{\"gridcolor\":\"white\",\"linecolor\":\"white\",\"ticks\":\"\"},\"baxis\":{\"gridcolor\":\"white\",\"linecolor\":\"white\",\"ticks\":\"\"},\"caxis\":{\"gridcolor\":\"white\",\"linecolor\":\"white\",\"ticks\":\"\"}},\"coloraxis\":{\"colorbar\":{\"outlinewidth\":0,\"ticks\":\"\"}},\"colorscale\":{\"sequential\":[[0.0,\"#0d0887\"],[0.1111111111111111,\"#46039f\"],[0.2222222222222222,\"#7201a8\"],[0.3333333333333333,\"#9c179e\"],[0.4444444444444444,\"#bd3786\"],[0.5555555555555556,\"#d8576b\"],[0.6666666666666666,\"#ed7953\"],[0.7777777777777778,\"#fb9f3a\"],[0.8888888888888888,\"#fdca26\"],[1.0,\"#f0f921\"]],\"sequentialminus\":[[0.0,\"#0d0887\"],[0.1111111111111111,\"#46039f\"],[0.2222222222222222,\"#7201a8\"],[0.3333333333333333,\"#9c179e\"],[0.4444444444444444,\"#bd3786\"],[0.5555555555555556,\"#d8576b\"],[0.6666666666666666,\"#ed7953\"],[0.7777777777777778,\"#fb9f3a\"],[0.8888888888888888,\"#fdca26\"],[1.0,\"#f0f921\"]],\"diverging\":[[0,\"#8e0152\"],[0.1,\"#c51b7d\"],[0.2,\"#de77ae\"],[0.3,\"#f1b6da\"],[0.4,\"#fde0ef\"],[0.5,\"#f7f7f7\"],[0.6,\"#e6f5d0\"],[0.7,\"#b8e186\"],[0.8,\"#7fbc41\"],[0.9,\"#4d9221\"],[1,\"#276419\"]]},\"xaxis\":{\"gridcolor\":\"white\",\"linecolor\":\"white\",\"ticks\":\"\",\"title\":{\"standoff\":15},\"zerolinecolor\":\"white\",\"automargin\":true,\"zerolinewidth\":2},\"yaxis\":{\"gridcolor\":\"white\",\"linecolor\":\"white\",\"ticks\":\"\",\"title\":{\"standoff\":15},\"zerolinecolor\":\"white\",\"automargin\":true,\"zerolinewidth\":2},\"scene\":{\"xaxis\":{\"backgroundcolor\":\"#E5ECF6\",\"gridcolor\":\"white\",\"linecolor\":\"white\",\"showbackground\":true,\"ticks\":\"\",\"zerolinecolor\":\"white\",\"gridwidth\":2},\"yaxis\":{\"backgroundcolor\":\"#E5ECF6\",\"gridcolor\":\"white\",\"linecolor\":\"white\",\"showbackground\":true,\"ticks\":\"\",\"zerolinecolor\":\"white\",\"gridwidth\":2},\"zaxis\":{\"backgroundcolor\":\"#E5ECF6\",\"gridcolor\":\"white\",\"linecolor\":\"white\",\"showbackground\":true,\"ticks\":\"\",\"zerolinecolor\":\"white\",\"gridwidth\":2}},\"shapedefaults\":{\"line\":{\"color\":\"#2a3f5f\"}},\"annotationdefaults\":{\"arrowcolor\":\"#2a3f5f\",\"arrowhead\":0,\"arrowwidth\":1},\"geo\":{\"bgcolor\":\"white\",\"landcolor\":\"#E5ECF6\",\"subunitcolor\":\"white\",\"showland\":true,\"showlakes\":true,\"lakecolor\":\"white\"},\"title\":{\"x\":0.05},\"mapbox\":{\"style\":\"light\"}}},\"xaxis\":{\"anchor\":\"y\",\"domain\":[0.0,1.0],\"title\":{\"text\":\"CustomerSegment\"}},\"yaxis\":{\"anchor\":\"x\",\"domain\":[0.0,1.0],\"title\":{\"text\":\"count\"}},\"legend\":{\"tracegroupgap\":0},\"title\":{\"text\":\"Customer Segmentation based on Total Sales\"},\"barmode\":\"relative\"},                        {\"responsive\": true}                    ).then(function(){\n",
       "                            \n",
       "var gd = document.getElementById('9f1f6a88-dcd8-47a7-bdd3-006dbe9b3086');\n",
       "var x = new MutationObserver(function (mutations, observer) {{\n",
       "        var display = window.getComputedStyle(gd).display;\n",
       "        if (!display || display === 'none') {{\n",
       "            console.log([gd, 'removed!']);\n",
       "            Plotly.purge(gd);\n",
       "            observer.disconnect();\n",
       "        }}\n",
       "}});\n",
       "\n",
       "// Listen for the removal of the full notebook cells\n",
       "var notebookContainer = gd.closest('#notebook-container');\n",
       "if (notebookContainer) {{\n",
       "    x.observe(notebookContainer, {childList: true});\n",
       "}}\n",
       "\n",
       "// Listen for the clearing of the current output cell\n",
       "var outputEl = gd.closest('.output');\n",
       "if (outputEl) {{\n",
       "    x.observe(outputEl, {childList: true});\n",
       "}}\n",
       "\n",
       "                        })                };                });            </script>        </div>"
      ]
     },
     "metadata": {},
     "output_type": "display_data"
    }
   ],
   "source": [
    "import sqlite3\n",
    "import pandas as pd\n",
    "\n",
    "# Load the CSV file into a DataFrame\n",
    "df = pd.read_csv('superstore.csv', sep=';')\n",
    "\n",
    "# Print column names to identify the correct customer identifier column\n",
    "print(df.columns)\n",
    "\n",
    "# Create a SQLite database and write the DataFrame to a table\n",
    "conn = sqlite3.connect('superstore.db')\n",
    "df.to_sql('Superstore_Sales', conn, index=False, if_exists='replace')\n",
    "\n",
    "# Define the SQL query with the correct customer identifier column\n",
    "sql_query = \"\"\"\n",
    "    -- Segment customers based on their purchasing behavior\n",
    "    SELECT\n",
    "        [Customer ID] AS CustomerID,\n",
    "        CASE\n",
    "            WHEN TotalSpent >= 1000 THEN 'High-Value Customer'\n",
    "            WHEN TotalSpent >= 500 AND TotalSpent < 1000 THEN 'Medium-Value Customer'\n",
    "            ELSE 'Low-Value Customer'\n",
    "        END AS CustomerSegment\n",
    "    FROM\n",
    "        (SELECT\n",
    "            [Customer ID],  -- Use the correct column name\n",
    "            SUM(Sales) AS TotalSpent\n",
    "        FROM\n",
    "            Superstore_Sales\n",
    "        GROUP BY\n",
    "            [Customer ID]) AS CustomerSpending;\n",
    "\"\"\"\n",
    "\n",
    "# Execute the query and fetch data into a DataFrame\n",
    "customer_segments = pd.read_sql_query(sql_query, conn)\n",
    "\n",
    "# Display the result\n",
    "print(customer_segments)\n",
    "\n",
    "# Close the database connection\n",
    "conn.close()\n",
    "\n",
    "import plotly.express as px\n",
    "\n",
    "# Assuming your DataFrame is named customer_segments\n",
    "fig = px.histogram(customer_segments, x='CustomerSegment', title='Customer Segmentation based on Total Sales')\n",
    "\n",
    "# Show the plot\n",
    "fig.show()\n"
   ]
  },
  {
   "cell_type": "code",
   "execution_count": 64,
   "id": "514fdf8a-a23e-4d41-b8b8-6cad64e09411",
   "metadata": {},
   "outputs": [
    {
     "name": "stdout",
     "output_type": "stream",
     "text": [
      "0      26196.0\n",
      "1      73194.0\n",
      "2       1462.0\n",
      "3    9575775.0\n",
      "4      22368.0\n",
      "Name: Sales, dtype: float64\n",
      "Mean Sales: 113227.10826495898\n",
      "Median Sales: 11088.0\n",
      "Standard Deviation of Sales: 518621.163467688\n"
     ]
    },
    {
     "data": {
      "image/png": "[encoded data removed]",
      "text/plain": [
       "<Figure size 1000x600 with 1 Axes>"
      ]
     },
     "metadata": {},
     "output_type": "display_data"
    }
   ],
   "source": [
    "# Data Visualization\n",
    "import matplotlib.pyplot as plt\n",
    "import seaborn as sns\n",
    "\n",
    "\n",
    "# Clean up the 'Sales' column\n",
    "df['Sales'] = df['Sales'].replace('[\\$,]', '', regex=True).astype(float)\n",
    "print(df['Sales'].head())\n",
    "\n",
    "# Descriptive Statistics\n",
    "mean_value = df['Sales'].mean()\n",
    "median_value = df['Sales'].median()\n",
    "std_deviation = df['Sales'].std()\n",
    "\n",
    "print(\"Mean Sales:\", mean_value)\n",
    "print(\"Median Sales:\", median_value)\n",
    "print(\"Standard Deviation of Sales:\", std_deviation)\n",
    "\n",
    "\n",
    "plt.figure(figsize=(10, 6))\n",
    "sns.histplot(df['Sales'], bins=20, kde=True)\n",
    "plt.title('Distribution of Sales')\n",
    "plt.xlabel('Sales')\n",
    "plt.ylabel('Frequency')\n",
    "plt.show()"
   ]
  },
  {
   "cell_type": "code",
   "execution_count": 81,
   "id": "ce557c8b-6dd5-4ab8-8ed3-ada368906529",
   "metadata": {},
   "outputs": [
    {
     "name": "stdout",
     "output_type": "stream",
     "text": [
      "Mean Squared Error: 183473802957.4661\n"
     ]
    }
   ],
   "source": [
    "import pandas as pd\n",
    "from sklearn.model_selection import train_test_split\n",
    "from sklearn.linear_model import LinearRegression\n",
    "from sklearn.metrics import mean_squared_error\n",
    "from sklearn.preprocessing import LabelEncoder\n",
    "from sklearn.preprocessing import StandardScaler, PolynomialFeatures\n",
    "from sklearn.pipeline import make_pipeline\n",
    "\n",
    "# Drop non-numeric columns for simplicity (you may need to handle them differently)\n",
    "numeric_df = df.select_dtypes(include='number')\n",
    "\n",
    "# Assuming 'Sales' is the target variable\n",
    "X = numeric_df.drop(['Sales'], axis=1)  # Features (excluding the target variable 'Sales')\n",
    "y = numeric_df['Sales']  # Target variable is 'Sales'\n",
    "\n",
    "# Split the data into training and testing sets\n",
    "X_train, X_test, y_train, y_test = train_test_split(X, y, test_size=0.2, random_state=42)\n",
    "\n",
    "# Create a pipeline with scaling and polynomial features\n",
    "model = make_pipeline(StandardScaler(), PolynomialFeatures(degree=2), LinearRegression())\n",
    "\n",
    "# Fit the model\n",
    "model.fit(X_train, y_train)\n",
    "\n",
    "# Predictions\n",
    "y_pred = model.predict(X_test)\n",
    "\n",
    "# Model Evaluation\n",
    "mse = mean_squared_error(y_test, y_pred)\n",
    "print(f\"Mean Squared Error: {mse}\")\n"
   ]
  },
  {
   "cell_type": "code",
   "execution_count": 83,
   "id": "ba94e573-6475-4438-8650-0cd7ea7cb407",
   "metadata": {},
   "outputs": [
    {
     "data": {
      "image/png": "[encoded data removed]",
      "text/plain": [
       "<Figure size 1200x600 with 2 Axes>"
      ]
     },
     "metadata": {},
     "output_type": "display_data"
    }
   ],
   "source": [
    "import matplotlib.pyplot as plt\n",
    "import seaborn as sns\n",
    "\n",
    "# Original data\n",
    "plt.figure(figsize=(12, 6))\n",
    "\n",
    "plt.subplot(1, 2, 1)\n",
    "sns.scatterplot(x=y_test.index, y=y_test, label='Actual Sales')\n",
    "plt.title('Actual Sales')\n",
    "plt.xlabel('Data Points')\n",
    "plt.ylabel('Sales')\n",
    "\n",
    "# Predictions from linear regression model with polynomial features\n",
    "plt.subplot(1, 2, 2)\n",
    "sns.scatterplot(x=y_test.index, y=y_pred, label='Predicted Sales')\n",
    "plt.title('Predicted Sales (Linear Regression with Polynomial Features)')\n",
    "plt.xlabel('Data Points')\n",
    "plt.ylabel('Sales')\n",
    "\n",
    "plt.tight_layout()\n",
    "plt.show()"
   ]
  },
  {
   "cell_type": "code",
   "execution_count": null,
   "id": "d32144c2-8d36-4f6c-a445-1fe76384cc61",
   "metadata": {},
   "outputs": [],
   "source": []
  }
 ],
 "metadata": {
  "kernelspec": {
   "display_name": "anaconda-panel-2023.05-py310",
   "language": "python",
   "name": "conda-env-anaconda-panel-2023.05-py310-py"
  },
  "language_info": {
   "codemirror_mode": {
    "name": "ipython",
    "version": 3
   },
   "file_extension": ".py",
   "mimetype": "text/x-python",
   "name": "python",
   "nbconvert_exporter": "python",
   "pygments_lexer": "ipython3",
   "version": "3.11.5"
  }
 },
 "nbformat": 4,
 "nbformat_minor": 5
}
